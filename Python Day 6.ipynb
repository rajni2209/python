{
 "cells": [
  {
   "cell_type": "markdown",
   "id": "d6161887",
   "metadata": {},
   "source": [
    "loop\n",
    "\n",
    "i) for loop\n",
    "ii) while loop"
   ]
  },
  {
   "cell_type": "code",
   "execution_count": 1,
   "id": "d7349ce9",
   "metadata": {},
   "outputs": [
    {
     "name": "stdout",
     "output_type": "stream",
     "text": [
      "yes 5\n",
      "yes 6\n",
      "yes 7\n",
      "yes 8\n",
      "yes 9\n"
     ]
    }
   ],
   "source": [
    "x = 5\n",
    "while x<10:\n",
    "    print(\"yes\" , x)\n",
    "    x=x+1"
   ]
  },
  {
   "cell_type": "code",
   "execution_count": 6,
   "id": "78fb1034",
   "metadata": {},
   "outputs": [],
   "source": [
    "y = [5,7,3,9,2,4]"
   ]
  },
  {
   "cell_type": "code",
   "execution_count": 7,
   "id": "bda59dff",
   "metadata": {},
   "outputs": [
    {
     "data": {
      "text/plain": [
       "[5, 7, 3, 9, 2, 4]"
      ]
     },
     "execution_count": 7,
     "metadata": {},
     "output_type": "execute_result"
    }
   ],
   "source": [
    "y"
   ]
  },
  {
   "cell_type": "code",
   "execution_count": 20,
   "id": "0eec44d1",
   "metadata": {},
   "outputs": [],
   "source": [
    "z = []\n",
    "for i in y:\n",
    "#     print(i*5+10)\n",
    "    z.append(i*5+10)"
   ]
  },
  {
   "cell_type": "code",
   "execution_count": 21,
   "id": "e5b1cb98",
   "metadata": {},
   "outputs": [
    {
     "data": {
      "text/plain": [
       "[35, 45, 25, 55, 20, 30]"
      ]
     },
     "execution_count": 21,
     "metadata": {},
     "output_type": "execute_result"
    }
   ],
   "source": [
    "z"
   ]
  },
  {
   "cell_type": "code",
   "execution_count": 32,
   "id": "d9f51ff9",
   "metadata": {},
   "outputs": [
    {
     "data": {
      "text/plain": [
       "[22, 51, 56, 74, 97, 88, 32, 1, 9]"
      ]
     },
     "execution_count": 32,
     "metadata": {},
     "output_type": "execute_result"
    }
   ],
   "source": [
    "num = [22,51,56,74,97,88,32,1,9]\n",
    "num"
   ]
  },
  {
   "cell_type": "code",
   "execution_count": 45,
   "id": "33b2a693",
   "metadata": {},
   "outputs": [],
   "source": [
    "z = []\n",
    "y = []\n",
    "for i in num:\n",
    "    if(i%2==0):\n",
    "        z.append(i)\n",
    "    else:\n",
    "        y.append(i)\n",
    "        "
   ]
  },
  {
   "cell_type": "code",
   "execution_count": 46,
   "id": "771f920e",
   "metadata": {},
   "outputs": [
    {
     "name": "stdout",
     "output_type": "stream",
     "text": [
      "[22, 56, 74, 88, 32]\n",
      "[51, 97, 1, 9]\n"
     ]
    }
   ],
   "source": [
    "print(z)\n",
    "print(y)\n"
   ]
  },
  {
   "cell_type": "code",
   "execution_count": 79,
   "id": "64012f40",
   "metadata": {},
   "outputs": [],
   "source": [
    "# to replace the num to other num here we replace 8 to 5 \n",
    "\n",
    "w = [22,85,69,36,48,28,18]\n",
    "q = []\n",
    "for i in w:\n",
    "    a = str(i)\n",
    "    b = a.replace('8' , '5')\n",
    "    c = int(b)\n",
    "    q.append(c)"
   ]
  },
  {
   "cell_type": "code",
   "execution_count": 80,
   "id": "8b7e6083",
   "metadata": {},
   "outputs": [
    {
     "data": {
      "text/plain": [
       "[22, 55, 69, 36, 45, 25, 15]"
      ]
     },
     "execution_count": 80,
     "metadata": {},
     "output_type": "execute_result"
    }
   ],
   "source": [
    "q"
   ]
  },
  {
   "cell_type": "code",
   "execution_count": 83,
   "id": "65f7d400",
   "metadata": {},
   "outputs": [],
   "source": [
    "h = \"SolutiOns\"\n",
    "y = ''"
   ]
  },
  {
   "cell_type": "code",
   "execution_count": 91,
   "id": "6404fae0",
   "metadata": {},
   "outputs": [
    {
     "ename": "IndentationError",
     "evalue": "expected an indented block after 'if' statement on line 2 (1961679120.py, line 3)",
     "output_type": "error",
     "traceback": [
      "\u001b[1;36m  Cell \u001b[1;32mIn[91], line 3\u001b[1;36m\u001b[0m\n\u001b[1;33m    y+=i\u001b[0m\n\u001b[1;37m    ^\u001b[0m\n\u001b[1;31mIndentationError\u001b[0m\u001b[1;31m:\u001b[0m expected an indented block after 'if' statement on line 2\n"
     ]
    }
   ],
   "source": [
    "for i in h:\n",
    "    if i.lower() not in ('s' , '0'):\n",
    "    y+=i\n",
    "        "
   ]
  },
  {
   "cell_type": "code",
   "execution_count": null,
   "id": "1d6299db",
   "metadata": {},
   "outputs": [],
   "source": []
  }
 ],
 "metadata": {
  "kernelspec": {
   "display_name": "Python 3 (ipykernel)",
   "language": "python",
   "name": "python3"
  },
  "language_info": {
   "codemirror_mode": {
    "name": "ipython",
    "version": 3
   },
   "file_extension": ".py",
   "mimetype": "text/x-python",
   "name": "python",
   "nbconvert_exporter": "python",
   "pygments_lexer": "ipython3",
   "version": "3.11.5"
  }
 },
 "nbformat": 4,
 "nbformat_minor": 5
}
