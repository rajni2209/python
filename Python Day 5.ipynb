{
 "cells": [
  {
   "cell_type": "markdown",
   "id": "10cc1b4a",
   "metadata": {},
   "source": [
    "condition "
   ]
  },
  {
   "cell_type": "code",
   "execution_count": 1,
   "id": "ae294e2b",
   "metadata": {},
   "outputs": [],
   "source": [
    "x = 8;"
   ]
  },
  {
   "cell_type": "code",
   "execution_count": 3,
   "id": "d635e325",
   "metadata": {},
   "outputs": [
    {
     "data": {
      "text/plain": [
       "True"
      ]
     },
     "execution_count": 3,
     "metadata": {},
     "output_type": "execute_result"
    }
   ],
   "source": [
    "x%2==0"
   ]
  },
  {
   "cell_type": "markdown",
   "id": "eea9d31f",
   "metadata": {},
   "source": [
    "write a program to know the number is positive or negative "
   ]
  },
  {
   "cell_type": "code",
   "execution_count": 4,
   "id": "fef4004b",
   "metadata": {},
   "outputs": [],
   "source": [
    "n = 8"
   ]
  },
  {
   "cell_type": "code",
   "execution_count": 15,
   "id": "7d77b3b1",
   "metadata": {},
   "outputs": [
    {
     "name": "stdout",
     "output_type": "stream",
     "text": [
      "positive\n"
     ]
    }
   ],
   "source": [
    "if(n>0):\n",
    "     print(\"positive\")\n",
    "elif n<0:\n",
    "    print(\"negative\")\n",
    "else:\n",
    "    print(\"zero\")"
   ]
  },
  {
   "cell_type": "code",
   "execution_count": 16,
   "id": "f934c012",
   "metadata": {},
   "outputs": [],
   "source": [
    "y = \"yderabad\""
   ]
  },
  {
   "cell_type": "code",
   "execution_count": 17,
   "id": "7d69cd59",
   "metadata": {},
   "outputs": [
    {
     "data": {
      "text/plain": [
       "'yderabad'"
      ]
     },
     "execution_count": 17,
     "metadata": {},
     "output_type": "execute_result"
    }
   ],
   "source": [
    "y"
   ]
  },
  {
   "cell_type": "code",
   "execution_count": 21,
   "id": "a4d2f846",
   "metadata": {},
   "outputs": [
    {
     "data": {
      "text/plain": [
       "'e'"
      ]
     },
     "execution_count": 21,
     "metadata": {},
     "output_type": "execute_result"
    }
   ],
   "source": [
    "y[2]"
   ]
  },
  {
   "cell_type": "code",
   "execution_count": 22,
   "id": "4d00fe13",
   "metadata": {},
   "outputs": [
    {
     "data": {
      "text/plain": [
       "'dera'"
      ]
     },
     "execution_count": 22,
     "metadata": {},
     "output_type": "execute_result"
    }
   ],
   "source": [
    "y[1:5]"
   ]
  },
  {
   "cell_type": "code",
   "execution_count": 23,
   "id": "50af9650",
   "metadata": {},
   "outputs": [
    {
     "data": {
      "text/plain": [
       "'YDERABAD'"
      ]
     },
     "execution_count": 23,
     "metadata": {},
     "output_type": "execute_result"
    }
   ],
   "source": [
    "y.upper()"
   ]
  },
  {
   "cell_type": "code",
   "execution_count": 24,
   "id": "a2037047",
   "metadata": {},
   "outputs": [
    {
     "data": {
      "text/plain": [
       "True"
      ]
     },
     "execution_count": 24,
     "metadata": {},
     "output_type": "execute_result"
    }
   ],
   "source": [
    "y.isalpha()"
   ]
  },
  {
   "cell_type": "code",
   "execution_count": 25,
   "id": "305473e4",
   "metadata": {},
   "outputs": [
    {
     "data": {
      "text/plain": [
       "'yderabad'"
      ]
     },
     "execution_count": 25,
     "metadata": {},
     "output_type": "execute_result"
    }
   ],
   "source": [
    "y.lower()"
   ]
  },
  {
   "cell_type": "code",
   "execution_count": 49,
   "id": "b4925f14",
   "metadata": {},
   "outputs": [],
   "source": [
    "t = \"telangana\"\n",
    "t = \"mumbai\"\n",
    "t = \"dilhi\""
   ]
  },
  {
   "cell_type": "code",
   "execution_count": 50,
   "id": "1028aae3",
   "metadata": {},
   "outputs": [
    {
     "data": {
      "text/plain": [
       "'dilhi'"
      ]
     },
     "execution_count": 50,
     "metadata": {},
     "output_type": "execute_result"
    }
   ],
   "source": [
    "t"
   ]
  },
  {
   "cell_type": "code",
   "execution_count": 52,
   "id": "6e0f983b",
   "metadata": {},
   "outputs": [
    {
     "name": "stdout",
     "output_type": "stream",
     "text": [
      "no\n"
     ]
    }
   ],
   "source": [
    "if(t[0] == 't' or t[0] == 'T'):\n",
    "    print(\"yes\")\n",
    "else :\n",
    "    print(\"no\")"
   ]
  },
  {
   "cell_type": "code",
   "execution_count": 70,
   "id": "87a6f05e",
   "metadata": {},
   "outputs": [],
   "source": [
    "x = \"delhi\""
   ]
  },
  {
   "cell_type": "code",
   "execution_count": 71,
   "id": "c0a9e8c9",
   "metadata": {},
   "outputs": [
    {
     "data": {
      "text/plain": [
       "'delhi'"
      ]
     },
     "execution_count": 71,
     "metadata": {},
     "output_type": "execute_result"
    }
   ],
   "source": [
    "x"
   ]
  },
  {
   "cell_type": "code",
   "execution_count": 75,
   "id": "5ccef7d0",
   "metadata": {},
   "outputs": [
    {
     "name": "stdout",
     "output_type": "stream",
     "text": [
      "no\n"
     ]
    }
   ],
   "source": [
    "if(x[0].lower() == 's' or x[0].lower() == 'h' or x[0].lower() == 'm'):\n",
    "    print(\"yes\")\n",
    "else:\n",
    "    print(\"no\")"
   ]
  },
  {
   "cell_type": "code",
   "execution_count": null,
   "id": "a79f58ea",
   "metadata": {},
   "outputs": [],
   "source": []
  },
  {
   "cell_type": "code",
   "execution_count": null,
   "id": "ffa1c2d9",
   "metadata": {},
   "outputs": [],
   "source": []
  }
 ],
 "metadata": {
  "kernelspec": {
   "display_name": "Python 3 (ipykernel)",
   "language": "python",
   "name": "python3"
  },
  "language_info": {
   "codemirror_mode": {
    "name": "ipython",
    "version": 3
   },
   "file_extension": ".py",
   "mimetype": "text/x-python",
   "name": "python",
   "nbconvert_exporter": "python",
   "pygments_lexer": "ipython3",
   "version": "3.11.5"
  }
 },
 "nbformat": 4,
 "nbformat_minor": 5
}
