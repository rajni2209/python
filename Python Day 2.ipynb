{
 "cells": [
  {
   "cell_type": "markdown",
   "id": "d94e8a4c",
   "metadata": {},
   "source": [
    "list tuple and dictionary"
   ]
  },
  {
   "cell_type": "markdown",
   "id": "0681c207",
   "metadata": {},
   "source": [
    "list"
   ]
  },
  {
   "cell_type": "code",
   "execution_count": 27,
   "id": "8a6cc538",
   "metadata": {},
   "outputs": [],
   "source": [
    "list = [558 , \"rajni\" , 22.9 ,True , \"mani\"]"
   ]
  },
  {
   "cell_type": "code",
   "execution_count": 28,
   "id": "b36db650",
   "metadata": {},
   "outputs": [
    {
     "name": "stdout",
     "output_type": "stream",
     "text": [
      "[558, 'rajni', 22.9, True, 'mani']\n"
     ]
    }
   ],
   "source": [
    "print(list)"
   ]
  },
  {
   "cell_type": "code",
   "execution_count": 29,
   "id": "0afeb1a8",
   "metadata": {},
   "outputs": [
    {
     "data": {
      "text/plain": [
       "558"
      ]
     },
     "execution_count": 29,
     "metadata": {},
     "output_type": "execute_result"
    }
   ],
   "source": [
    "list[0]"
   ]
  },
  {
   "cell_type": "code",
   "execution_count": 30,
   "id": "cb0e2f98",
   "metadata": {},
   "outputs": [
    {
     "data": {
      "text/plain": [
       "['rajni', 22.9]"
      ]
     },
     "execution_count": 30,
     "metadata": {},
     "output_type": "execute_result"
    }
   ],
   "source": [
    "list[1:3] # starting : ending (last element will be ignored)"
   ]
  },
  {
   "cell_type": "code",
   "execution_count": 31,
   "id": "37a5e709",
   "metadata": {},
   "outputs": [
    {
     "data": {
      "text/plain": [
       "[22.9, True]"
      ]
     },
     "execution_count": 31,
     "metadata": {},
     "output_type": "execute_result"
    }
   ],
   "source": [
    "list[-3:-1]"
   ]
  },
  {
   "cell_type": "code",
   "execution_count": 32,
   "id": "d4abd4cb",
   "metadata": {},
   "outputs": [
    {
     "data": {
      "text/plain": [
       "[22.9]"
      ]
     },
     "execution_count": 32,
     "metadata": {},
     "output_type": "execute_result"
    }
   ],
   "source": [
    "list[-3:3]"
   ]
  },
  {
   "cell_type": "code",
   "execution_count": 34,
   "id": "f958c322",
   "metadata": {},
   "outputs": [
    {
     "data": {
      "text/plain": [
       "[558, 22.9, 'mani']"
      ]
     },
     "execution_count": 34,
     "metadata": {},
     "output_type": "execute_result"
    }
   ],
   "source": [
    "list[0:5:2]"
   ]
  },
  {
   "cell_type": "code",
   "execution_count": 35,
   "id": "2d9c1bd6",
   "metadata": {},
   "outputs": [
    {
     "data": {
      "text/plain": [
       "[558, 'mani']"
      ]
     },
     "execution_count": 35,
     "metadata": {},
     "output_type": "execute_result"
    }
   ],
   "source": [
    "list[0:5:4]"
   ]
  },
  {
   "cell_type": "code",
   "execution_count": 40,
   "id": "25d9d00f",
   "metadata": {},
   "outputs": [
    {
     "data": {
      "text/plain": [
       "[True]"
      ]
     },
     "execution_count": 40,
     "metadata": {},
     "output_type": "execute_result"
    }
   ],
   "source": [
    "list[3:5:4]"
   ]
  },
  {
   "cell_type": "code",
   "execution_count": 48,
   "id": "61ac2a7d",
   "metadata": {},
   "outputs": [
    {
     "data": {
      "text/plain": [
       "['mani', True]"
      ]
     },
     "execution_count": 48,
     "metadata": {},
     "output_type": "execute_result"
    }
   ],
   "source": [
    "list[-1:2:-1]"
   ]
  },
  {
   "cell_type": "markdown",
   "id": "0a6b07c0",
   "metadata": {},
   "source": [
    "append ====>  to add the elements in last"
   ]
  },
  {
   "cell_type": "code",
   "execution_count": 49,
   "id": "a26f89c2",
   "metadata": {},
   "outputs": [],
   "source": [
    "list.append(41)"
   ]
  },
  {
   "cell_type": "code",
   "execution_count": 45,
   "id": "e3308f04",
   "metadata": {},
   "outputs": [
    {
     "data": {
      "text/plain": [
       "[558, 'rajni', 22.9, True, 'mani']"
      ]
     },
     "execution_count": 45,
     "metadata": {},
     "output_type": "execute_result"
    }
   ],
   "source": [
    "list"
   ]
  },
  {
   "cell_type": "code",
   "execution_count": 50,
   "id": "9fbae691",
   "metadata": {},
   "outputs": [
    {
     "data": {
      "text/plain": [
       "[558, 'rajni', 22.9, True, 'mani', 41]"
      ]
     },
     "execution_count": 50,
     "metadata": {},
     "output_type": "execute_result"
    }
   ],
   "source": [
    "list"
   ]
  },
  {
   "cell_type": "code",
   "execution_count": 52,
   "id": "6db6f377",
   "metadata": {},
   "outputs": [],
   "source": [
    "list.append(\"hyd\")"
   ]
  },
  {
   "cell_type": "code",
   "execution_count": 53,
   "id": "516894e5",
   "metadata": {},
   "outputs": [
    {
     "data": {
      "text/plain": [
       "[558, 'rajni', 22.9, True, 'mani', 41, 'hyd']"
      ]
     },
     "execution_count": 53,
     "metadata": {},
     "output_type": "execute_result"
    }
   ],
   "source": [
    "list"
   ]
  },
  {
   "cell_type": "markdown",
   "id": "4bc4de9f",
   "metadata": {},
   "source": [
    "insert ====> to add the elements in specfic position"
   ]
  },
  {
   "cell_type": "code",
   "execution_count": 54,
   "id": "855daf0d",
   "metadata": {},
   "outputs": [],
   "source": [
    "list.insert(0,1)"
   ]
  },
  {
   "cell_type": "code",
   "execution_count": 56,
   "id": "0765ad90",
   "metadata": {},
   "outputs": [
    {
     "data": {
      "text/plain": [
       "[1, 558, 'rajni', 22.9, True, 'mani', 41, 'hyd']"
      ]
     },
     "execution_count": 56,
     "metadata": {},
     "output_type": "execute_result"
    }
   ],
   "source": [
    "list"
   ]
  },
  {
   "cell_type": "code",
   "execution_count": 57,
   "id": "e0917a22",
   "metadata": {},
   "outputs": [],
   "source": [
    "list.insert(3,\"kant\")"
   ]
  },
  {
   "cell_type": "code",
   "execution_count": 58,
   "id": "5c06bc1a",
   "metadata": {},
   "outputs": [
    {
     "data": {
      "text/plain": [
       "[1, 558, 'rajni', 'kant', 22.9, True, 'mani', 41, 'hyd']"
      ]
     },
     "execution_count": 58,
     "metadata": {},
     "output_type": "execute_result"
    }
   ],
   "source": [
    "list"
   ]
  },
  {
   "cell_type": "markdown",
   "id": "ed5b9fa9",
   "metadata": {},
   "source": [
    "pop ===> to delete through index number"
   ]
  },
  {
   "cell_type": "code",
   "execution_count": 60,
   "id": "3966db7d",
   "metadata": {},
   "outputs": [
    {
     "data": {
      "text/plain": [
       "1"
      ]
     },
     "execution_count": 60,
     "metadata": {},
     "output_type": "execute_result"
    }
   ],
   "source": [
    "list.pop(0)"
   ]
  },
  {
   "cell_type": "code",
   "execution_count": 61,
   "id": "db30a5ef",
   "metadata": {},
   "outputs": [
    {
     "data": {
      "text/plain": [
       "[558, 'rajni', 'kant', 22.9, True, 'mani', 41, 'hyd']"
      ]
     },
     "execution_count": 61,
     "metadata": {},
     "output_type": "execute_result"
    }
   ],
   "source": [
    "list"
   ]
  },
  {
   "cell_type": "code",
   "execution_count": 62,
   "id": "c2b0014e",
   "metadata": {},
   "outputs": [
    {
     "data": {
      "text/plain": [
       "'hyd'"
      ]
     },
     "execution_count": 62,
     "metadata": {},
     "output_type": "execute_result"
    }
   ],
   "source": [
    "list.pop(-1)"
   ]
  },
  {
   "cell_type": "code",
   "execution_count": 63,
   "id": "84797859",
   "metadata": {},
   "outputs": [
    {
     "data": {
      "text/plain": [
       "[558, 'rajni', 'kant', 22.9, True, 'mani', 41]"
      ]
     },
     "execution_count": 63,
     "metadata": {},
     "output_type": "execute_result"
    }
   ],
   "source": [
    "list"
   ]
  },
  {
   "cell_type": "markdown",
   "id": "5d293951",
   "metadata": {},
   "source": [
    "remove ====> it will delete the element by the value itself"
   ]
  },
  {
   "cell_type": "code",
   "execution_count": 64,
   "id": "1b0ab859",
   "metadata": {},
   "outputs": [],
   "source": [
    "list.remove(41)"
   ]
  },
  {
   "cell_type": "code",
   "execution_count": 65,
   "id": "e63dda0f",
   "metadata": {},
   "outputs": [
    {
     "data": {
      "text/plain": [
       "[558, 'rajni', 'kant', 22.9, True, 'mani']"
      ]
     },
     "execution_count": 65,
     "metadata": {},
     "output_type": "execute_result"
    }
   ],
   "source": [
    "list"
   ]
  },
  {
   "cell_type": "markdown",
   "id": "b6b58786",
   "metadata": {},
   "source": [
    "count ===> it used to count the a particular element "
   ]
  },
  {
   "cell_type": "code",
   "execution_count": 66,
   "id": "6e29c1ed",
   "metadata": {},
   "outputs": [
    {
     "data": {
      "text/plain": [
       "1"
      ]
     },
     "execution_count": 66,
     "metadata": {},
     "output_type": "execute_result"
    }
   ],
   "source": [
    "list.count(\"rajni\")"
   ]
  },
  {
   "cell_type": "code",
   "execution_count": 67,
   "id": "4b69f53f",
   "metadata": {},
   "outputs": [
    {
     "data": {
      "text/plain": [
       "0"
      ]
     },
     "execution_count": 67,
     "metadata": {},
     "output_type": "execute_result"
    }
   ],
   "source": [
    "list.count(\"hyd\")"
   ]
  },
  {
   "cell_type": "code",
   "execution_count": 68,
   "id": "92b8345e",
   "metadata": {},
   "outputs": [
    {
     "data": {
      "text/plain": [
       "[558, 'rajni', 'kant', 22.9, True, 'mani']"
      ]
     },
     "execution_count": 68,
     "metadata": {},
     "output_type": "execute_result"
    }
   ],
   "source": [
    "list"
   ]
  },
  {
   "cell_type": "markdown",
   "id": "83c1d65c",
   "metadata": {},
   "source": [
    "exrends ===> it will add number of elements at last in the list at one time"
   ]
  },
  {
   "cell_type": "code",
   "execution_count": 72,
   "id": "6a5d1562",
   "metadata": {},
   "outputs": [],
   "source": [
    "list.extend([22,9])"
   ]
  },
  {
   "cell_type": "code",
   "execution_count": 73,
   "id": "743b4b56",
   "metadata": {},
   "outputs": [
    {
     "data": {
      "text/plain": [
       "[558, 'rajni', 'kant', 22.9, True, 'mani', 22, 9]"
      ]
     },
     "execution_count": 73,
     "metadata": {},
     "output_type": "execute_result"
    }
   ],
   "source": [
    "list"
   ]
  },
  {
   "cell_type": "code",
   "execution_count": 74,
   "id": "2b6e98cd",
   "metadata": {},
   "outputs": [],
   "source": [
    "list2 = [1,5,7,5]"
   ]
  },
  {
   "cell_type": "code",
   "execution_count": 75,
   "id": "0ac57c06",
   "metadata": {},
   "outputs": [],
   "source": [
    "list.extend(list2)"
   ]
  },
  {
   "cell_type": "code",
   "execution_count": 76,
   "id": "36d7a228",
   "metadata": {},
   "outputs": [
    {
     "data": {
      "text/plain": [
       "[558, 'rajni', 'kant', 22.9, True, 'mani', 22, 9, 1, 5, 7, 5]"
      ]
     },
     "execution_count": 76,
     "metadata": {},
     "output_type": "execute_result"
    }
   ],
   "source": [
    "list"
   ]
  },
  {
   "cell_type": "code",
   "execution_count": 77,
   "id": "039a247c",
   "metadata": {},
   "outputs": [
    {
     "data": {
      "text/plain": [
       "[1, 5, 7, 5]"
      ]
     },
     "execution_count": 77,
     "metadata": {},
     "output_type": "execute_result"
    }
   ],
   "source": [
    "list2"
   ]
  },
  {
   "cell_type": "markdown",
   "id": "889ac7ac",
   "metadata": {},
   "source": [
    "concat"
   ]
  },
  {
   "cell_type": "code",
   "execution_count": 81,
   "id": "62e7ea05",
   "metadata": {},
   "outputs": [],
   "source": [
    "a = list + list2"
   ]
  },
  {
   "cell_type": "code",
   "execution_count": 82,
   "id": "055139a9",
   "metadata": {},
   "outputs": [
    {
     "data": {
      "text/plain": [
       "[558, 'rajni', 'kant', 22.9, True, 'mani', 22, 9, 1, 5, 7, 5, 1, 5, 7, 5]"
      ]
     },
     "execution_count": 82,
     "metadata": {},
     "output_type": "execute_result"
    }
   ],
   "source": [
    "a"
   ]
  },
  {
   "cell_type": "code",
   "execution_count": 83,
   "id": "3c71911c",
   "metadata": {},
   "outputs": [
    {
     "data": {
      "text/plain": [
       "[558, 'rajni', 'kant', 22.9, True, 'mani', 22, 9, 1, 5, 7, 5]"
      ]
     },
     "execution_count": 83,
     "metadata": {},
     "output_type": "execute_result"
    }
   ],
   "source": [
    "list"
   ]
  },
  {
   "cell_type": "code",
   "execution_count": 84,
   "id": "6f7b96fa",
   "metadata": {},
   "outputs": [
    {
     "data": {
      "text/plain": [
       "[1, 5, 7, 5]"
      ]
     },
     "execution_count": 84,
     "metadata": {},
     "output_type": "execute_result"
    }
   ],
   "source": [
    "list2"
   ]
  },
  {
   "cell_type": "code",
   "execution_count": 85,
   "id": "dd585ef3",
   "metadata": {},
   "outputs": [
    {
     "data": {
      "text/plain": [
       "[558, 'rajni', 'kant', 22.9, True, 'mani', 22, 9, 1, 5, 7, 5, 1, 5, 7, 5]"
      ]
     },
     "execution_count": 85,
     "metadata": {},
     "output_type": "execute_result"
    }
   ],
   "source": [
    "a"
   ]
  },
  {
   "cell_type": "code",
   "execution_count": null,
   "id": "e7526bfa",
   "metadata": {},
   "outputs": [],
   "source": []
  }
 ],
 "metadata": {
  "kernelspec": {
   "display_name": "Python 3 (ipykernel)",
   "language": "python",
   "name": "python3"
  },
  "language_info": {
   "codemirror_mode": {
    "name": "ipython",
    "version": 3
   },
   "file_extension": ".py",
   "mimetype": "text/x-python",
   "name": "python",
   "nbconvert_exporter": "python",
   "pygments_lexer": "ipython3",
   "version": "3.11.5"
  }
 },
 "nbformat": 4,
 "nbformat_minor": 5
}
