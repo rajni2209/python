{
 "cells": [
  {
   "cell_type": "markdown",
   "id": "7ac4f972",
   "metadata": {},
   "source": [
    "Disctionary"
   ]
  },
  {
   "cell_type": "code",
   "execution_count": 1,
   "id": "3a6339a6",
   "metadata": {},
   "outputs": [
    {
     "data": {
      "text/plain": [
       "{101: 2, 102: 8, 103: 45}"
      ]
     },
     "execution_count": 1,
     "metadata": {},
     "output_type": "execute_result"
    }
   ],
   "source": [
    "d = {101 : 2 ,102 :8,103:45}  # 101 is key or we can say defin index \n",
    "d"
   ]
  },
  {
   "cell_type": "code",
   "execution_count": 2,
   "id": "f1e27595",
   "metadata": {},
   "outputs": [
    {
     "data": {
      "text/plain": [
       "2"
      ]
     },
     "execution_count": 2,
     "metadata": {},
     "output_type": "execute_result"
    }
   ],
   "source": [
    "d[101]  # accessing the elements"
   ]
  },
  {
   "cell_type": "code",
   "execution_count": 5,
   "id": "e3d9f83e",
   "metadata": {},
   "outputs": [],
   "source": [
    "d[101] = 8  # it will change the existing value"
   ]
  },
  {
   "cell_type": "code",
   "execution_count": 6,
   "id": "3011b855",
   "metadata": {},
   "outputs": [
    {
     "data": {
      "text/plain": [
       "{101: 8, 102: 8, 103: 45}"
      ]
     },
     "execution_count": 6,
     "metadata": {},
     "output_type": "execute_result"
    }
   ],
   "source": [
    "d"
   ]
  },
  {
   "cell_type": "code",
   "execution_count": 8,
   "id": "c171da73",
   "metadata": {},
   "outputs": [],
   "source": [
    "d.update({102:7})# another method  ==>  it will change the d"
   ]
  },
  {
   "cell_type": "code",
   "execution_count": 9,
   "id": "aa7d7a71",
   "metadata": {},
   "outputs": [
    {
     "data": {
      "text/plain": [
       "{101: 8, 102: 7, 103: 45}"
      ]
     },
     "execution_count": 9,
     "metadata": {},
     "output_type": "execute_result"
    }
   ],
   "source": [
    "d"
   ]
  },
  {
   "cell_type": "code",
   "execution_count": 10,
   "id": "95221601",
   "metadata": {},
   "outputs": [],
   "source": [
    "d.update({104:99})"
   ]
  },
  {
   "cell_type": "code",
   "execution_count": 11,
   "id": "3895d2a7",
   "metadata": {},
   "outputs": [
    {
     "data": {
      "text/plain": [
       "{101: 8, 102: 7, 103: 45, 104: 99}"
      ]
     },
     "execution_count": 11,
     "metadata": {},
     "output_type": "execute_result"
    }
   ],
   "source": [
    "d"
   ]
  },
  {
   "cell_type": "code",
   "execution_count": 12,
   "id": "f2f2e31b",
   "metadata": {},
   "outputs": [],
   "source": [
    "d[105] = 0  # another method to update "
   ]
  },
  {
   "cell_type": "code",
   "execution_count": 13,
   "id": "f410139c",
   "metadata": {},
   "outputs": [
    {
     "data": {
      "text/plain": [
       "{101: 8, 102: 7, 103: 45, 104: 99, 105: 0}"
      ]
     },
     "execution_count": 13,
     "metadata": {},
     "output_type": "execute_result"
    }
   ],
   "source": [
    "d"
   ]
  },
  {
   "cell_type": "code",
   "execution_count": 14,
   "id": "243eb9d8",
   "metadata": {},
   "outputs": [
    {
     "data": {
      "text/plain": [
       "0"
      ]
     },
     "execution_count": 14,
     "metadata": {},
     "output_type": "execute_result"
    }
   ],
   "source": [
    "d[105]  # accessing the elements"
   ]
  },
  {
   "cell_type": "code",
   "execution_count": 16,
   "id": "4c2a62f6",
   "metadata": {},
   "outputs": [],
   "source": [
    "d.update({101 : 'India'})"
   ]
  },
  {
   "cell_type": "code",
   "execution_count": 17,
   "id": "932ff2e3",
   "metadata": {},
   "outputs": [
    {
     "data": {
      "text/plain": [
       "{101: 'India', 102: 7, 103: 45, 104: 99, 105: 0}"
      ]
     },
     "execution_count": 17,
     "metadata": {},
     "output_type": "execute_result"
    }
   ],
   "source": [
    "d"
   ]
  },
  {
   "cell_type": "code",
   "execution_count": 18,
   "id": "9aacbf00",
   "metadata": {},
   "outputs": [],
   "source": [
    "d.update({102 : 'India'}) # it allow duplicate values but not the duplicate key"
   ]
  },
  {
   "cell_type": "code",
   "execution_count": 19,
   "id": "b12308e7",
   "metadata": {},
   "outputs": [
    {
     "data": {
      "text/plain": [
       "{101: 'India', 102: 'India', 103: 45, 104: 99, 105: 0}"
      ]
     },
     "execution_count": 19,
     "metadata": {},
     "output_type": "execute_result"
    }
   ],
   "source": [
    "d"
   ]
  },
  {
   "cell_type": "code",
   "execution_count": 21,
   "id": "593f52c9",
   "metadata": {},
   "outputs": [
    {
     "data": {
      "text/plain": [
       "'India'"
      ]
     },
     "execution_count": 21,
     "metadata": {},
     "output_type": "execute_result"
    }
   ],
   "source": [
    "d.get(101) # it same as d[101] "
   ]
  },
  {
   "cell_type": "code",
   "execution_count": 22,
   "id": "fbe39736",
   "metadata": {},
   "outputs": [],
   "source": [
    "del d[105]  # delete the value using del keyword"
   ]
  },
  {
   "cell_type": "code",
   "execution_count": 23,
   "id": "0a35c53a",
   "metadata": {},
   "outputs": [
    {
     "data": {
      "text/plain": [
       "{101: 'India', 102: 'India', 103: 45, 104: 99}"
      ]
     },
     "execution_count": 23,
     "metadata": {},
     "output_type": "execute_result"
    }
   ],
   "source": [
    "d"
   ]
  },
  {
   "cell_type": "code",
   "execution_count": 25,
   "id": "c5887d11",
   "metadata": {},
   "outputs": [
    {
     "data": {
      "text/plain": [
       "dict_values(['India', 'India', 45, 99])"
      ]
     },
     "execution_count": 25,
     "metadata": {},
     "output_type": "execute_result"
    }
   ],
   "source": [
    "d.values()  # to get all the disctionary in d"
   ]
  },
  {
   "cell_type": "code",
   "execution_count": 27,
   "id": "5f8c3b4f",
   "metadata": {},
   "outputs": [
    {
     "data": {
      "text/plain": [
       "dict_keys([101, 102, 103, 104])"
      ]
     },
     "execution_count": 27,
     "metadata": {},
     "output_type": "execute_result"
    }
   ],
   "source": [
    "d.keys()"
   ]
  },
  {
   "cell_type": "code",
   "execution_count": 28,
   "id": "e217860e",
   "metadata": {},
   "outputs": [
    {
     "data": {
      "text/plain": [
       "dict_values(['India', 'India', 45, 99])"
      ]
     },
     "execution_count": 28,
     "metadata": {},
     "output_type": "execute_result"
    }
   ],
   "source": [
    "d.values()"
   ]
  },
  {
   "cell_type": "code",
   "execution_count": 29,
   "id": "8e807f1e",
   "metadata": {},
   "outputs": [
    {
     "data": {
      "text/plain": [
       "dict_items([(101, 'India'), (102, 'India'), (103, 45), (104, 99)])"
      ]
     },
     "execution_count": 29,
     "metadata": {},
     "output_type": "execute_result"
    }
   ],
   "source": [
    "d.items() # in the form of tuple"
   ]
  },
  {
   "cell_type": "code",
   "execution_count": 30,
   "id": "5a75c858",
   "metadata": {},
   "outputs": [
    {
     "ename": "KeyError",
     "evalue": "105",
     "output_type": "error",
     "traceback": [
      "\u001b[1;31m---------------------------------------------------------------------------\u001b[0m",
      "\u001b[1;31mKeyError\u001b[0m                                  Traceback (most recent call last)",
      "Cell \u001b[1;32mIn[30], line 1\u001b[0m\n\u001b[1;32m----> 1\u001b[0m d[\u001b[38;5;241m105\u001b[39m]\n",
      "\u001b[1;31mKeyError\u001b[0m: 105"
     ]
    }
   ],
   "source": [
    "d[105]"
   ]
  },
  {
   "cell_type": "code",
   "execution_count": 31,
   "id": "ff45b291",
   "metadata": {},
   "outputs": [],
   "source": [
    "d[105] = [200,300,400] # adding list in  disctionary d"
   ]
  },
  {
   "cell_type": "code",
   "execution_count": 32,
   "id": "4fba9670",
   "metadata": {},
   "outputs": [
    {
     "data": {
      "text/plain": [
       "{101: 'India', 102: 'India', 103: 45, 104: 99, 105: [200, 300, 400]}"
      ]
     },
     "execution_count": 32,
     "metadata": {},
     "output_type": "execute_result"
    }
   ],
   "source": [
    "d"
   ]
  },
  {
   "cell_type": "code",
   "execution_count": 33,
   "id": "713a44ec",
   "metadata": {},
   "outputs": [],
   "source": [
    "d.update({105:[500,600]})"
   ]
  },
  {
   "cell_type": "code",
   "execution_count": 34,
   "id": "3f5a3646",
   "metadata": {},
   "outputs": [
    {
     "data": {
      "text/plain": [
       "{101: 'India', 102: 'India', 103: 45, 104: 99, 105: [500, 600]}"
      ]
     },
     "execution_count": 34,
     "metadata": {},
     "output_type": "execute_result"
    }
   ],
   "source": [
    "d"
   ]
  },
  {
   "cell_type": "code",
   "execution_count": 35,
   "id": "47e87032",
   "metadata": {},
   "outputs": [
    {
     "data": {
      "text/plain": [
       "dict_keys([101, 102, 103, 104, 105])"
      ]
     },
     "execution_count": 35,
     "metadata": {},
     "output_type": "execute_result"
    }
   ],
   "source": [
    "d.keys()"
   ]
  },
  {
   "cell_type": "code",
   "execution_count": 36,
   "id": "708fa4b4",
   "metadata": {},
   "outputs": [
    {
     "data": {
      "text/plain": [
       "dict_values(['India', 'India', 45, 99, [500, 600]])"
      ]
     },
     "execution_count": 36,
     "metadata": {},
     "output_type": "execute_result"
    }
   ],
   "source": [
    "d.values()"
   ]
  },
  {
   "cell_type": "code",
   "execution_count": 38,
   "id": "5b7dfb38",
   "metadata": {},
   "outputs": [
    {
     "data": {
      "text/plain": [
       "[500, 600]"
      ]
     },
     "execution_count": 38,
     "metadata": {},
     "output_type": "execute_result"
    }
   ],
   "source": [
    "d.get(105)"
   ]
  },
  {
   "cell_type": "code",
   "execution_count": 39,
   "id": "7698fccb",
   "metadata": {},
   "outputs": [
    {
     "data": {
      "text/plain": [
       "dict"
      ]
     },
     "execution_count": 39,
     "metadata": {},
     "output_type": "execute_result"
    }
   ],
   "source": [
    "type(d)   # type of d"
   ]
  },
  {
   "cell_type": "code",
   "execution_count": 42,
   "id": "cef0a805",
   "metadata": {},
   "outputs": [
    {
     "data": {
      "text/plain": [
       "str"
      ]
     },
     "execution_count": 42,
     "metadata": {},
     "output_type": "execute_result"
    }
   ],
   "source": [
    "type(d[102]) # type of a particular value in d(disctionary)"
   ]
  },
  {
   "cell_type": "code",
   "execution_count": 43,
   "id": "5cd15d6f",
   "metadata": {},
   "outputs": [
    {
     "data": {
      "text/plain": [
       "list"
      ]
     },
     "execution_count": 43,
     "metadata": {},
     "output_type": "execute_result"
    }
   ],
   "source": [
    "type(d[105])"
   ]
  },
  {
   "cell_type": "code",
   "execution_count": 47,
   "id": "5c6ee4c9",
   "metadata": {},
   "outputs": [],
   "source": [
    "d[106] = (2,7,3,9)"
   ]
  },
  {
   "cell_type": "code",
   "execution_count": 48,
   "id": "b4e34a12",
   "metadata": {},
   "outputs": [
    {
     "data": {
      "text/plain": [
       "{101: 'India',\n",
       " 102: 'India',\n",
       " 103: 45,\n",
       " 104: 99,\n",
       " 105: [500, 600],\n",
       " 106: (2, 7, 3, 9)}"
      ]
     },
     "execution_count": 48,
     "metadata": {},
     "output_type": "execute_result"
    }
   ],
   "source": [
    "d"
   ]
  },
  {
   "cell_type": "code",
   "execution_count": 49,
   "id": "069e7a00",
   "metadata": {},
   "outputs": [],
   "source": [
    "d[105].append(700) # we can update the list object i.e 105 in disctionary "
   ]
  },
  {
   "cell_type": "code",
   "execution_count": 50,
   "id": "4332e038",
   "metadata": {},
   "outputs": [
    {
     "data": {
      "text/plain": [
       "{101: 'India',\n",
       " 102: 'India',\n",
       " 103: 45,\n",
       " 104: 99,\n",
       " 105: [500, 600, 700],\n",
       " 106: (2, 7, 3, 9)}"
      ]
     },
     "execution_count": 50,
     "metadata": {},
     "output_type": "execute_result"
    }
   ],
   "source": [
    "d"
   ]
  },
  {
   "cell_type": "code",
   "execution_count": 53,
   "id": "d652b046",
   "metadata": {},
   "outputs": [],
   "source": [
    "d[105].append(4)"
   ]
  },
  {
   "cell_type": "code",
   "execution_count": 54,
   "id": "9db6821c",
   "metadata": {},
   "outputs": [
    {
     "data": {
      "text/plain": [
       "{101: 'India',\n",
       " 102: 'India',\n",
       " 103: 45,\n",
       " 104: 99,\n",
       " 105: [500, 600, 700, 4],\n",
       " 106: (2, 7, 3, 9)}"
      ]
     },
     "execution_count": 54,
     "metadata": {},
     "output_type": "execute_result"
    }
   ],
   "source": [
    "d"
   ]
  },
  {
   "cell_type": "code",
   "execution_count": 56,
   "id": "8ec2110e",
   "metadata": {},
   "outputs": [],
   "source": [
    "d[101] = {50:[2,5,7,2] , 'apple':(20,4,30,[20,40])}"
   ]
  },
  {
   "cell_type": "code",
   "execution_count": 57,
   "id": "2eceb8c0",
   "metadata": {},
   "outputs": [
    {
     "data": {
      "text/plain": [
       "{101: {50: [2, 5, 7, 2], 'apple': (20, 4, 30, [20, 40])},\n",
       " 102: 'India',\n",
       " 103: 45,\n",
       " 104: 99,\n",
       " 105: [500, 600, 700, 4],\n",
       " 106: (2, 7, 3, 9)}"
      ]
     },
     "execution_count": 57,
     "metadata": {},
     "output_type": "execute_result"
    }
   ],
   "source": [
    "d"
   ]
  },
  {
   "cell_type": "code",
   "execution_count": 59,
   "id": "6f227b1c",
   "metadata": {},
   "outputs": [],
   "source": [
    "d[106] = {'a':{30,40,50} , 'b':(555,777,999) , 'c':['K',{'L':[11,22] , 'M':(0.01 , 0.02)} , 'N']}"
   ]
  },
  {
   "cell_type": "code",
   "execution_count": 60,
   "id": "10ee01c7",
   "metadata": {},
   "outputs": [
    {
     "data": {
      "text/plain": [
       "{101: {50: [2, 5, 7, 2], 'apple': (20, 4, 30, [20, 40])},\n",
       " 102: 'India',\n",
       " 103: 45,\n",
       " 104: 99,\n",
       " 105: [500, 600, 700, 4],\n",
       " 106: {'a': {30, 40, 50},\n",
       "  'b': (555, 777, 999),\n",
       "  'c': ['K', {'L': [11, 22], 'M': (0.01, 0.02)}, 'N']}}"
      ]
     },
     "execution_count": 60,
     "metadata": {},
     "output_type": "execute_result"
    }
   ],
   "source": [
    "d"
   ]
  },
  {
   "cell_type": "code",
   "execution_count": 61,
   "id": "e2450ddc",
   "metadata": {},
   "outputs": [
    {
     "data": {
      "text/plain": [
       "{50: [2, 5, 7, 2], 'apple': (20, 4, 30, [20, 40])}"
      ]
     },
     "execution_count": 61,
     "metadata": {},
     "output_type": "execute_result"
    }
   ],
   "source": [
    "d[101]"
   ]
  },
  {
   "cell_type": "code",
   "execution_count": 62,
   "id": "afd5ce00",
   "metadata": {},
   "outputs": [
    {
     "data": {
      "text/plain": [
       "[2, 5, 7, 2]"
      ]
     },
     "execution_count": 62,
     "metadata": {},
     "output_type": "execute_result"
    }
   ],
   "source": [
    "d[101][50]"
   ]
  },
  {
   "cell_type": "code",
   "execution_count": 63,
   "id": "91b0ad3a",
   "metadata": {},
   "outputs": [
    {
     "data": {
      "text/plain": [
       "(20, 4, 30, [20, 40])"
      ]
     },
     "execution_count": 63,
     "metadata": {},
     "output_type": "execute_result"
    }
   ],
   "source": [
    "d[101]['apple']"
   ]
  },
  {
   "cell_type": "code",
   "execution_count": 67,
   "id": "a803a195",
   "metadata": {},
   "outputs": [
    {
     "data": {
      "text/plain": [
       "20"
      ]
     },
     "execution_count": 67,
     "metadata": {},
     "output_type": "execute_result"
    }
   ],
   "source": [
    "d[101]['apple'][0]"
   ]
  },
  {
   "cell_type": "code",
   "execution_count": 68,
   "id": "44815225",
   "metadata": {},
   "outputs": [
    {
     "data": {
      "text/plain": [
       "4"
      ]
     },
     "execution_count": 68,
     "metadata": {},
     "output_type": "execute_result"
    }
   ],
   "source": [
    "d[101]['apple'][1]"
   ]
  },
  {
   "cell_type": "code",
   "execution_count": 69,
   "id": "d88dc70c",
   "metadata": {},
   "outputs": [
    {
     "data": {
      "text/plain": [
       "[20, 40]"
      ]
     },
     "execution_count": 69,
     "metadata": {},
     "output_type": "execute_result"
    }
   ],
   "source": [
    "d[101]['apple'][3]"
   ]
  },
  {
   "cell_type": "code",
   "execution_count": 70,
   "id": "01a1240b",
   "metadata": {},
   "outputs": [
    {
     "data": {
      "text/plain": [
       "40"
      ]
     },
     "execution_count": 70,
     "metadata": {},
     "output_type": "execute_result"
    }
   ],
   "source": [
    "d[101]['apple'][3][1]"
   ]
  },
  {
   "cell_type": "code",
   "execution_count": 71,
   "id": "fe0b896c",
   "metadata": {},
   "outputs": [
    {
     "data": {
      "text/plain": [
       "{'a': {30, 40, 50},\n",
       " 'b': (555, 777, 999),\n",
       " 'c': ['K', {'L': [11, 22], 'M': (0.01, 0.02)}, 'N']}"
      ]
     },
     "execution_count": 71,
     "metadata": {},
     "output_type": "execute_result"
    }
   ],
   "source": [
    "d[106]"
   ]
  },
  {
   "cell_type": "code",
   "execution_count": 72,
   "id": "0ad72ddc",
   "metadata": {},
   "outputs": [
    {
     "data": {
      "text/plain": [
       "'K'"
      ]
     },
     "execution_count": 72,
     "metadata": {},
     "output_type": "execute_result"
    }
   ],
   "source": [
    "d[106]['c'][0]"
   ]
  },
  {
   "cell_type": "code",
   "execution_count": 79,
   "id": "61069f95",
   "metadata": {},
   "outputs": [
    {
     "data": {
      "text/plain": [
       "{'L': [11, 22], 'M': (0.01, 0.02)}"
      ]
     },
     "execution_count": 79,
     "metadata": {},
     "output_type": "execute_result"
    }
   ],
   "source": [
    "d[106]['c'][1]"
   ]
  },
  {
   "cell_type": "code",
   "execution_count": 82,
   "id": "2b020185",
   "metadata": {},
   "outputs": [
    {
     "data": {
      "text/plain": [
       "22"
      ]
     },
     "execution_count": 82,
     "metadata": {},
     "output_type": "execute_result"
    }
   ],
   "source": [
    "d[106]['c'][1]['L'][1]"
   ]
  },
  {
   "cell_type": "code",
   "execution_count": null,
   "id": "efd4f559",
   "metadata": {},
   "outputs": [],
   "source": []
  }
 ],
 "metadata": {
  "kernelspec": {
   "display_name": "Python 3 (ipykernel)",
   "language": "python",
   "name": "python3"
  },
  "language_info": {
   "codemirror_mode": {
    "name": "ipython",
    "version": 3
   },
   "file_extension": ".py",
   "mimetype": "text/x-python",
   "name": "python",
   "nbconvert_exporter": "python",
   "pygments_lexer": "ipython3",
   "version": "3.11.5"
  }
 },
 "nbformat": 4,
 "nbformat_minor": 5
}
